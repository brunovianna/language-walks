{
  "cells": [
    {
      "cell_type": "markdown",
      "metadata": {
        "id": "view-in-github",
        "colab_type": "text"
      },
      "source": [
        "<a href=\"https://colab.research.google.com/github/brunovianna/language-walks/blob/main/meaning_walks.ipynb\" target=\"_parent\"><img src=\"https://colab.research.google.com/assets/colab-badge.svg\" alt=\"Open In Colab\"/></a>"
      ]
    },
    {
      "cell_type": "code",
      "execution_count": 2,
      "metadata": {
        "colab": {
          "base_uri": "https://localhost:8080/"
        },
        "id": "Y9EBc437WDOs",
        "outputId": "0c8df28d-0526-40de-a347-8c640e8adee3"
      },
      "outputs": [
   
      ],
      "source": [
        "from google.colab import drive\n",
        "drive.mount('/content/gdrive')"
      ]
    },
    {
      "cell_type": "code",
      "execution_count": 3,
      "metadata": {
        "colab": {
          "base_uri": "https://localhost:8080/"
        },
        "id": "VzFDHH2erVY8",
        "outputId": "90f15f04-2825-4074-a98f-d8a3c93ff3eb"
      },
      "outputs": [
   
      ],
      "source": [
        "!mkdir /content/gdrive/MyDrive/sd-playground/\n",
        "\n",
        "savedir = \"/content/gdrive/MyDrive/sd-playground/\"\n",
        "\n",
        "#!git clone https://github.com/keras-team/keras-cv.git\n",
        "!pip install --upgrade keras-cv"
      ]
    },
    {
      "cell_type": "code",
      "execution_count": 4,
      "metadata": {
        "colab": {
          "base_uri": "https://localhost:8080/"
        },
        "id": "HJNbZKsAr2qr",
        "outputId": "1d9df09b-ed84-4911-c65f-0165ae7d5c35"
      },
      "outputs": [
       
      ],
      "source": [
        "import time\n",
        "import keras_cv\n",
        "from tensorflow import keras\n",
        "import tensorflow as tf\n",
        "import matplotlib.pyplot as plt\n",
        "\n",
        "import math\n",
        "import numpy as np\n",
        "from numpy.random import default_rng\n",
        "\n",
        "from datetime import datetime \n",
        "\n",
        "model = keras_cv.models.StableDiffusion(img_width=512, img_height=512)\n",
        "MAX_PROMPT_LENGTH = 77\n",
        "\n",
        "\n",
        "        "
      ]
    },
    {
      "cell_type": "code",
      "execution_count": null,
      "metadata": {
        "colab": {
          "base_uri": "https://localhost:8080/"
        },
        "id": "7Tp-mA15QoSt",
        "outputId": "3e31193a-6b06-40d4-d58d-6338a7a37064"
      },
      "outputs": [
      
      ],
      "source": [
        "\n",
        "rng = default_rng()\n",
        "\n",
        "def plot_images(images):\n",
        "    plt.figure(figsize=(20, 20))\n",
        "    for i in range(len(images)):\n",
        "        ax = plt.subplot(1, len(images), i + 1)\n",
        "        plt.imshow(images[i])\n",
        "        plt.axis(\"off\")\n",
        "\n",
        "\n",
        "def plot_images_2d(images, inverted, zoom, savefile):\n",
        "    if inverted:\n",
        "      plt.figure(figsize=(zoom*len(images), zoom*len(images[0])))\n",
        "      for i in range(len(images)):\n",
        "        for j in range(len(images[i])):\n",
        "          ax = plt.subplot(len(images[0]), len(images), (j * len(images)) + i +1)\n",
        "          plt.imshow(images[i][j])\n",
        "          plt.axis(\"off\")\n",
        "    else:\n",
        "      plt.figure(figsize=(zoom*len(image[0]), zoom*len(images)))\n",
        "      for i in range(len(images)):\n",
        "        for j in range(len(images[i])):\n",
        "          ax = plt.subplot(len(images), len(images[0]), (i * len(images)) + j +1)\n",
        "          plt.imshow(images[i][j])\n",
        "          plt.axis(\"off\")\n",
        "\n",
        "    if (savefile):\n",
        "\n",
        "        plt.savefig(savefile+\".jpg\")\n",
        "\n",
        "def randnsphere(n,radius):\n",
        "  v = [rng.standard_normal() for i in range(0, n)]\n",
        "  inv_len = radius / math.sqrt(sum(coord * coord for coord in v))\n",
        "  return [coord * inv_len for coord in v]\n",
        "\n",
        "num_points = 10\n",
        "seed = 10000002\n",
        "num_steps=25\n",
        "batch_size = 4\n",
        "sphere_radius = 5\n",
        "\n",
        "print (\"central prompt vector \"+ str(context[0][0]))\n",
        "\n",
        "prompt = \"boxer\"\n",
        "\n",
        "tokens = model.tokenizer.encode(prompt)\n",
        "phrase = tokens + [49407] * (MAX_PROMPT_LENGTH - len(tokens))\n",
        "phrase = tf.convert_to_tensor([phrase], dtype=tf.int32)\n",
        "context_base = model.text_encoder.predict_on_batch(\n",
        "    [phrase, model._get_pos_ids()]\n",
        ")\n",
        "\n",
        "rand_array = [np.array(randnsphere (768, sphere_radius)) for z in range (num_points)] \n",
        "img_rows = []\n",
        "img_rows.append (model.generate_image(context_base,num_steps=num_steps,seed=seed, batch_size=batch_size))\n",
        "\n",
        "for i in range(num_points):\n",
        "  context=context_base.copy()\n",
        "  print (str(i)+\" before \"+ str(context[0][0][0]))\n",
        "  around = np.array(context[0][0])+rand_array[i]\n",
        "  context[0][0] = around\n",
        "  print (str(i)+\" after \"+ str(context[0][0][0]))\n",
        "  img = model.generate_image(context,num_steps=num_steps,seed=seed, batch_size=batch_size)\n",
        "  img_rows.append(img)\n",
        "\n",
        "\n",
        "\n",
        "\n",
        "savename = savedir+datetime.now().strftime(\"%Y%m%d%H%M%S\")+\"_\"+prompt\n",
        "plot_images_2d(img_rows,True,3, savename)\n",
        "params_array = np.array ([np.array([num_points,seed,num_steps,batch_size,sphere_radius]), rand_array])\n",
        "np.save (savename+\".npy\", params_array)\n",
        "\n"
      ]
    }
  ],
  "metadata": {
    "accelerator": "GPU",
    "colab": {
      "provenance": [],
      "authorship_tag": "ABX9TyPkUluITzT2650IY2xT7+F0",
      "include_colab_link": true
    },
    "gpuClass": "standard",
    "kernelspec": {
      "display_name": "Python 3",
      "name": "python3"
    },
    "language_info": {
      "name": "python"
    }
  },
  "nbformat": 4,
  "nbformat_minor": 0
}
